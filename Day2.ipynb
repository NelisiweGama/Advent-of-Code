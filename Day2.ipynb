{
 "cells": [
  {
   "cell_type": "code",
   "execution_count": 144,
   "metadata": {},
   "outputs": [],
   "source": [
    "ex = [1,25,52,3,1,1,2,3,1,3,4,3,1,5,0,3,2,10,1,19,1,5,19,23,1,23,5,27,2,27,10,31,1,5,31,35,2,35,6,39,1,6,39,43,2,13,43,47,2,9,47,51,1,6,51,55,1,55,9,59,2,6,59,63,1,5,63,67,2,67,13,71,1,9,71,75,1,75,9,79,2,79,10,83,1,6,83,87,1,5,87,91,1,6,91,95,1,95,13,99,1,10,99,103,2,6,103,107,1,107,5,111,1,111,13,115,1,115,13,119,1,13,119,123,2,123,13,127,1,127,6,131,1,131,9,135,1,5,135,139,2,139,6,143,2,6,143,147,1,5,147,151,1,151,2,155,1,9,155,0,99,2,14,0,0]"
   ]
  },
  {
   "cell_type": "code",
   "execution_count": 148,
   "metadata": {},
   "outputs": [
    {
     "data": {
      "text/plain": [
       "1"
      ]
     },
     "execution_count": 148,
     "metadata": {},
     "output_type": "execute_result"
    }
   ],
   "source": [
    "ex[20]"
   ]
  },
  {
   "cell_type": "code",
   "execution_count": 142,
   "metadata": {},
   "outputs": [
    {
     "name": "stdout",
     "output_type": "stream",
     "text": [
      "[19690720\n",
      "[19690720, 25, 52, 2, 1, 1, 2, 3, 1, 3, 4, 3, 1, 5, 0, 3, 2, 10, 1, 100, 1, 5, 19, 101, 1, 23, 5, 102, 2, 27, 10, 408, 1, 5, 31, 409, 2, 35, 6, 818, 1, 6, 39, 820, 2, 13, 43, 4100, 2, 9, 47, 12300, 1, 6, 51, 12302, 1, 55, 9, 12305, 2, 6, 59, 24610, 1, 5, 63, 24611, 2, 67, 13, 123055, 1, 9, 71, 123058, 1, 75, 9, 123061, 2, 79, 10, 492244, 1, 6, 83, 492246, 1, 5, 87, 492247, 1, 6, 91, 492249, 1, 95, 13, 492254, 1, 10, 99, 492258, 2, 6, 103, 984516, 1, 107, 5, 984517, 1, 111, 13, 984522, 1, 115, 13, 984527, 1, 13, 119, 984532, 2, 123, 13, 4922660, 1, 127, 6, 4922662, 1, 131, 9, 4922665, 1, 5, 135, 4922666, 2, 139, 6, 9845332, 2, 6, 143, 19690664, 1, 5, 147, 19690665, 1, 151, 2, 19690717, 1, 9, 155, 0, 99, 2, 14, 0, 0]\n"
     ]
    }
   ],
   "source": [
    "for i in range(0,len(ex)):\n",
    "#     inp_1 = i+1\n",
    "#     inp_2 = i+2\n",
    "#     add = ex[ex[inp_1]]+ex[ex[inp_2]]\n",
    "#     ex[ex[i+3]] = add\n",
    "#     i +=4\n",
    "    while ex[i]!=99:\n",
    "        if ex[i] == 1:\n",
    "            inp_1 = i+1\n",
    "            inp_2 = i+2\n",
    "            add = ex[ex[inp_1]]+ex[ex[inp_2]]\n",
    "            ex[ex[i+3]] = add\n",
    "            i +=4\n",
    "        elif ex[i]==2:\n",
    "            inp_1 = i+1\n",
    "            inp_2 = i+2\n",
    "            mult = ex[ex[inp_1]] * ex[ex[inp_2]]\n",
    "            ex[ex[i+3]] = mult\n",
    "            i+=4\n",
    "#         if ex[0] == 19690720:\n",
    "#             print('***********')\n",
    "    break\n",
    "print('[19690720')\n",
    "print(ex)\n"
   ]
  },
  {
   "cell_type": "code",
   "execution_count": 88,
   "metadata": {},
   "outputs": [],
   "source": [
    "y = 100 * 12 +2 "
   ]
  },
  {
   "cell_type": "code",
   "execution_count": 89,
   "metadata": {},
   "outputs": [
    {
     "data": {
      "text/plain": [
       "1202"
      ]
     },
     "execution_count": 89,
     "metadata": {},
     "output_type": "execute_result"
    }
   ],
   "source": [
    "y"
   ]
  },
  {
   "cell_type": "code",
   "execution_count": null,
   "metadata": {},
   "outputs": [],
   "source": [
    "# ex = [1,9,10,3,2,3,11,0,99,30,40,50]\n",
    "# ex = [1,0,0,0,99]\n",
    "# ex = [2,3,0,3,99]\n",
    "# ex = [2,4,4,5,99,0]\n",
    "# ex = [1,1,1,4,99,5,6,0,99]"
   ]
  }
 ],
 "metadata": {
  "kernelspec": {
   "display_name": "Python 3",
   "language": "python",
   "name": "python3"
  },
  "language_info": {
   "codemirror_mode": {
    "name": "ipython",
    "version": 3
   },
   "file_extension": ".py",
   "mimetype": "text/x-python",
   "name": "python",
   "nbconvert_exporter": "python",
   "pygments_lexer": "ipython3",
   "version": "3.7.0"
  }
 },
 "nbformat": 4,
 "nbformat_minor": 2
}
